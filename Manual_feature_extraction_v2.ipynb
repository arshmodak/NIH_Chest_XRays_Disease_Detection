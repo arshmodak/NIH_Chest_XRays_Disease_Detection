{
  "nbformat": 4,
  "nbformat_minor": 0,
  "metadata": {
    "colab": {
      "name": "Manual_feature_extraction_v2",
      "provenance": [],
      "collapsed_sections": [],
      "machine_shape": "hm"
    },
    "kernelspec": {
      "name": "python3",
      "display_name": "Python 3"
    },
    "language_info": {
      "name": "python"
    }
  },
  "cells": [
    {
      "cell_type": "code",
      "metadata": {
        "colab": {
          "base_uri": "https://localhost:8080/"
        },
        "id": "5iZ8_159Fcwr",
        "outputId": "c5ba8ed2-4c11-497b-ac5f-d9c30336d81f"
      },
      "source": [
        "!pip install PyWavelets\n",
        "!pip install pyfeats"
      ],
      "execution_count": 60,
      "outputs": [
        {
          "output_type": "stream",
          "name": "stdout",
          "text": [
            "Requirement already satisfied: PyWavelets in /usr/local/lib/python3.7/dist-packages (1.2.0)\n",
            "Requirement already satisfied: numpy>=1.17.3 in /usr/local/lib/python3.7/dist-packages (from PyWavelets) (1.19.5)\n",
            "Collecting pyfeats\n",
            "  Downloading pyfeats-0.0.11.tar.gz (32 kB)\n",
            "Requirement already satisfied: opencv-python in /usr/local/lib/python3.7/dist-packages (from pyfeats) (4.1.2.30)\n",
            "Requirement already satisfied: numpy in /usr/local/lib/python3.7/dist-packages (from pyfeats) (1.19.5)\n",
            "Requirement already satisfied: scikit-image in /usr/local/lib/python3.7/dist-packages (from pyfeats) (0.18.3)\n",
            "Requirement already satisfied: matplotlib in /usr/local/lib/python3.7/dist-packages (from pyfeats) (3.2.2)\n",
            "Requirement already satisfied: scipy in /usr/local/lib/python3.7/dist-packages (from pyfeats) (1.4.1)\n",
            "Requirement already satisfied: PyWavelets in /usr/local/lib/python3.7/dist-packages (from pyfeats) (1.2.0)\n",
            "Collecting mahotas\n",
            "  Downloading mahotas-1.4.12-cp37-cp37m-manylinux_2_12_x86_64.manylinux2010_x86_64.whl (5.7 MB)\n",
            "\u001b[K     |████████████████████████████████| 5.7 MB 8.5 MB/s \n",
            "\u001b[?25hRequirement already satisfied: pyparsing!=2.0.4,!=2.1.2,!=2.1.6,>=2.0.1 in /usr/local/lib/python3.7/dist-packages (from matplotlib->pyfeats) (3.0.6)\n",
            "Requirement already satisfied: python-dateutil>=2.1 in /usr/local/lib/python3.7/dist-packages (from matplotlib->pyfeats) (2.8.2)\n",
            "Requirement already satisfied: cycler>=0.10 in /usr/local/lib/python3.7/dist-packages (from matplotlib->pyfeats) (0.11.0)\n",
            "Requirement already satisfied: kiwisolver>=1.0.1 in /usr/local/lib/python3.7/dist-packages (from matplotlib->pyfeats) (1.3.2)\n",
            "Requirement already satisfied: six>=1.5 in /usr/local/lib/python3.7/dist-packages (from python-dateutil>=2.1->matplotlib->pyfeats) (1.15.0)\n",
            "Requirement already satisfied: pillow!=7.1.0,!=7.1.1,>=4.3.0 in /usr/local/lib/python3.7/dist-packages (from scikit-image->pyfeats) (7.1.2)\n",
            "Requirement already satisfied: imageio>=2.3.0 in /usr/local/lib/python3.7/dist-packages (from scikit-image->pyfeats) (2.4.1)\n",
            "Requirement already satisfied: networkx>=2.0 in /usr/local/lib/python3.7/dist-packages (from scikit-image->pyfeats) (2.6.3)\n",
            "Requirement already satisfied: tifffile>=2019.7.26 in /usr/local/lib/python3.7/dist-packages (from scikit-image->pyfeats) (2021.11.2)\n",
            "Building wheels for collected packages: pyfeats\n",
            "  Building wheel for pyfeats (setup.py) ... \u001b[?25l\u001b[?25hdone\n",
            "  Created wheel for pyfeats: filename=pyfeats-0.0.11-py3-none-any.whl size=46825 sha256=48af86b763ccf229d247caaa5a6f7448fc7817f94f5e6e0c23db43941d5ec57a\n",
            "  Stored in directory: /root/.cache/pip/wheels/a2/d6/20/ffb98b47157e97a3fe0db4ea16c258986aa0ee386ecc7dbf80\n",
            "Successfully built pyfeats\n",
            "Installing collected packages: mahotas, pyfeats\n",
            "Successfully installed mahotas-1.4.12 pyfeats-0.0.11\n"
          ]
        }
      ]
    },
    {
      "cell_type": "code",
      "metadata": {
        "id": "3p1JOXT2Hnne"
      },
      "source": [
        "import pandas as pd\n",
        "import numpy as np\n",
        "from skimage.io import imread\n",
        "from skimage.transform import resize\n",
        "from skimage.feature import hog\n",
        "from skimage import exposure\n",
        "import matplotlib.pyplot as plt\n",
        "from skimage.color import rgb2gray\n",
        "from PIL import Image, ImageFilter"
      ],
      "execution_count": 61,
      "outputs": []
    },
    {
      "cell_type": "code",
      "metadata": {
        "colab": {
          "base_uri": "https://localhost:8080/"
        },
        "id": "wq7n87wFGdk1",
        "outputId": "0fdf2482-576c-4d83-cdd3-055590cde2be"
      },
      "source": [
        "from google.colab import drive\n",
        "drive.mount('/content/drive')"
      ],
      "execution_count": 62,
      "outputs": [
        {
          "output_type": "stream",
          "name": "stdout",
          "text": [
            "Drive already mounted at /content/drive; to attempt to forcibly remount, call drive.mount(\"/content/drive\", force_remount=True).\n"
          ]
        }
      ]
    },
    {
      "cell_type": "code",
      "metadata": {
        "id": "USomhzxmGfAt"
      },
      "source": [
        "!cp \"/content/drive/MyDrive/CS5100 Project/resized_images_v4_224.zip\" -r \"/content/resized_images_v4_224.zip\"\n",
        "!unzip /content/resized_images_v4_224.zip -d /content/resized_images_v4_224"
      ],
      "execution_count": null,
      "outputs": []
    },
    {
      "cell_type": "code",
      "metadata": {
        "id": "27Nu3pEUGiBt"
      },
      "source": [
        "import pickle\n",
        "\n",
        "def write_dataframe(df, extract_path, first = False):\n",
        "  mode = 'a'\n",
        "  header = False\n",
        "  if first:\n",
        "    mode = 'w'\n",
        "    header = True\n",
        "  \n",
        "  df.to_csv(extract_path, mode = mode, header = header, index = False)  \n",
        "  return\n",
        "\n",
        "\n",
        "def read_pickle_file(filepath):\n",
        "  with open(filepath, \"rb\") as f:\n",
        "    return pickle.load(f)\n",
        "  \n",
        "def write_pickle_file(df, extract_path, iteration):\n",
        "\n",
        "  with open(extract_path,'wb') as f:\n",
        "    pickle.dump([df,iteration], f)\n",
        "    first = False\n",
        "    if iteration == 500:\n",
        "      first = True\n",
        "    \n",
        "  extract_path2 = extract_path.replace(\".pkl\",\".csv\")\n",
        "  write_dataframe(df, extract_path2, first)\n",
        "  return"
      ],
      "execution_count": 64,
      "outputs": []
    },
    {
      "cell_type": "code",
      "metadata": {
        "id": "vo9-WmNEGigh"
      },
      "source": [
        "# add this from GIT\n",
        "filepath = \"/content/class_dict_wo_NF.pkl\"\n",
        "class_dict = read_pickle_file(filepath)"
      ],
      "execution_count": 96,
      "outputs": []
    },
    {
      "cell_type": "code",
      "metadata": {
        "id": "gwaG8bFUGj9m"
      },
      "source": [
        "#add this from GIT\n",
        "df = pd.read_csv(\"/content/final_df_all_images_wo_NF_labels.csv\")"
      ],
      "execution_count": 97,
      "outputs": []
    },
    {
      "cell_type": "code",
      "metadata": {
        "colab": {
          "base_uri": "https://localhost:8080/",
          "height": 330
        },
        "id": "ihl4xHMAGogg",
        "outputId": "13d160ea-cfed-4aac-b977-25eb841ff32e"
      },
      "source": [
        "df.tail()"
      ],
      "execution_count": 98,
      "outputs": [
        {
          "output_type": "execute_result",
          "data": {
            "text/html": [
              "<div>\n",
              "<style scoped>\n",
              "    .dataframe tbody tr th:only-of-type {\n",
              "        vertical-align: middle;\n",
              "    }\n",
              "\n",
              "    .dataframe tbody tr th {\n",
              "        vertical-align: top;\n",
              "    }\n",
              "\n",
              "    .dataframe thead th {\n",
              "        text-align: right;\n",
              "    }\n",
              "</style>\n",
              "<table border=\"1\" class=\"dataframe\">\n",
              "  <thead>\n",
              "    <tr style=\"text-align: right;\">\n",
              "      <th></th>\n",
              "      <th>Image Index</th>\n",
              "      <th>Finding Labels</th>\n",
              "      <th>Follow-up #</th>\n",
              "      <th>Patient ID</th>\n",
              "      <th>Patient Age</th>\n",
              "      <th>Patient Gender</th>\n",
              "      <th>View Position</th>\n",
              "      <th>OriginalImage[Width</th>\n",
              "      <th>Height]</th>\n",
              "      <th>OriginalImagePixelSpacing[x</th>\n",
              "      <th>y]</th>\n",
              "      <th>Unnamed: 11</th>\n",
              "      <th>Atelectasis</th>\n",
              "      <th>Cardiomegaly</th>\n",
              "      <th>Consolidation</th>\n",
              "      <th>Edema</th>\n",
              "      <th>Effusion</th>\n",
              "      <th>Emphysema</th>\n",
              "      <th>Fibrosis</th>\n",
              "      <th>Hernia</th>\n",
              "      <th>Infiltration</th>\n",
              "      <th>Mass</th>\n",
              "      <th>Nodule</th>\n",
              "      <th>Pleural_Thickening</th>\n",
              "      <th>Pneumonia</th>\n",
              "      <th>Pneumothorax</th>\n",
              "      <th>disease_vec</th>\n",
              "    </tr>\n",
              "  </thead>\n",
              "  <tbody>\n",
              "    <tr>\n",
              "      <th>112115</th>\n",
              "      <td>00030801_001.png</td>\n",
              "      <td>['Mass', 'Pneumonia']</td>\n",
              "      <td>1</td>\n",
              "      <td>30801</td>\n",
              "      <td>39</td>\n",
              "      <td>M</td>\n",
              "      <td>PA</td>\n",
              "      <td>2048</td>\n",
              "      <td>2500</td>\n",
              "      <td>0.168</td>\n",
              "      <td>0.168</td>\n",
              "      <td>NaN</td>\n",
              "      <td>0</td>\n",
              "      <td>0</td>\n",
              "      <td>0</td>\n",
              "      <td>0</td>\n",
              "      <td>0</td>\n",
              "      <td>0</td>\n",
              "      <td>0</td>\n",
              "      <td>0</td>\n",
              "      <td>0</td>\n",
              "      <td>1</td>\n",
              "      <td>0</td>\n",
              "      <td>0</td>\n",
              "      <td>1</td>\n",
              "      <td>0</td>\n",
              "      <td>[0 0 0 0 0 0 0 0 0 1 0 0 1 0]</td>\n",
              "    </tr>\n",
              "    <tr>\n",
              "      <th>112116</th>\n",
              "      <td>00030802_000.png</td>\n",
              "      <td>['No Finding']</td>\n",
              "      <td>0</td>\n",
              "      <td>30802</td>\n",
              "      <td>29</td>\n",
              "      <td>M</td>\n",
              "      <td>PA</td>\n",
              "      <td>2048</td>\n",
              "      <td>2500</td>\n",
              "      <td>0.168</td>\n",
              "      <td>0.168</td>\n",
              "      <td>NaN</td>\n",
              "      <td>0</td>\n",
              "      <td>0</td>\n",
              "      <td>0</td>\n",
              "      <td>0</td>\n",
              "      <td>0</td>\n",
              "      <td>0</td>\n",
              "      <td>0</td>\n",
              "      <td>0</td>\n",
              "      <td>0</td>\n",
              "      <td>0</td>\n",
              "      <td>0</td>\n",
              "      <td>0</td>\n",
              "      <td>0</td>\n",
              "      <td>0</td>\n",
              "      <td>[0 0 0 0 0 0 0 0 0 0 0 0 0 0]</td>\n",
              "    </tr>\n",
              "    <tr>\n",
              "      <th>112117</th>\n",
              "      <td>00030803_000.png</td>\n",
              "      <td>['No Finding']</td>\n",
              "      <td>0</td>\n",
              "      <td>30803</td>\n",
              "      <td>42</td>\n",
              "      <td>F</td>\n",
              "      <td>PA</td>\n",
              "      <td>2048</td>\n",
              "      <td>2500</td>\n",
              "      <td>0.168</td>\n",
              "      <td>0.168</td>\n",
              "      <td>NaN</td>\n",
              "      <td>0</td>\n",
              "      <td>0</td>\n",
              "      <td>0</td>\n",
              "      <td>0</td>\n",
              "      <td>0</td>\n",
              "      <td>0</td>\n",
              "      <td>0</td>\n",
              "      <td>0</td>\n",
              "      <td>0</td>\n",
              "      <td>0</td>\n",
              "      <td>0</td>\n",
              "      <td>0</td>\n",
              "      <td>0</td>\n",
              "      <td>0</td>\n",
              "      <td>[0 0 0 0 0 0 0 0 0 0 0 0 0 0]</td>\n",
              "    </tr>\n",
              "    <tr>\n",
              "      <th>112118</th>\n",
              "      <td>00030804_000.png</td>\n",
              "      <td>['No Finding']</td>\n",
              "      <td>0</td>\n",
              "      <td>30804</td>\n",
              "      <td>30</td>\n",
              "      <td>F</td>\n",
              "      <td>PA</td>\n",
              "      <td>2048</td>\n",
              "      <td>2500</td>\n",
              "      <td>0.168</td>\n",
              "      <td>0.168</td>\n",
              "      <td>NaN</td>\n",
              "      <td>0</td>\n",
              "      <td>0</td>\n",
              "      <td>0</td>\n",
              "      <td>0</td>\n",
              "      <td>0</td>\n",
              "      <td>0</td>\n",
              "      <td>0</td>\n",
              "      <td>0</td>\n",
              "      <td>0</td>\n",
              "      <td>0</td>\n",
              "      <td>0</td>\n",
              "      <td>0</td>\n",
              "      <td>0</td>\n",
              "      <td>0</td>\n",
              "      <td>[0 0 0 0 0 0 0 0 0 0 0 0 0 0]</td>\n",
              "    </tr>\n",
              "    <tr>\n",
              "      <th>112119</th>\n",
              "      <td>00030805_000.png</td>\n",
              "      <td>['No Finding']</td>\n",
              "      <td>0</td>\n",
              "      <td>30805</td>\n",
              "      <td>27</td>\n",
              "      <td>M</td>\n",
              "      <td>PA</td>\n",
              "      <td>2048</td>\n",
              "      <td>2500</td>\n",
              "      <td>0.171</td>\n",
              "      <td>0.171</td>\n",
              "      <td>NaN</td>\n",
              "      <td>0</td>\n",
              "      <td>0</td>\n",
              "      <td>0</td>\n",
              "      <td>0</td>\n",
              "      <td>0</td>\n",
              "      <td>0</td>\n",
              "      <td>0</td>\n",
              "      <td>0</td>\n",
              "      <td>0</td>\n",
              "      <td>0</td>\n",
              "      <td>0</td>\n",
              "      <td>0</td>\n",
              "      <td>0</td>\n",
              "      <td>0</td>\n",
              "      <td>[0 0 0 0 0 0 0 0 0 0 0 0 0 0]</td>\n",
              "    </tr>\n",
              "  </tbody>\n",
              "</table>\n",
              "</div>"
            ],
            "text/plain": [
              "             Image Index  ...                    disease_vec\n",
              "112115  00030801_001.png  ...  [0 0 0 0 0 0 0 0 0 1 0 0 1 0]\n",
              "112116  00030802_000.png  ...  [0 0 0 0 0 0 0 0 0 0 0 0 0 0]\n",
              "112117  00030803_000.png  ...  [0 0 0 0 0 0 0 0 0 0 0 0 0 0]\n",
              "112118  00030804_000.png  ...  [0 0 0 0 0 0 0 0 0 0 0 0 0 0]\n",
              "112119  00030805_000.png  ...  [0 0 0 0 0 0 0 0 0 0 0 0 0 0]\n",
              "\n",
              "[5 rows x 27 columns]"
            ]
          },
          "metadata": {},
          "execution_count": 98
        }
      ]
    },
    {
      "cell_type": "code",
      "metadata": {
        "id": "iid3_9NCGqu6"
      },
      "source": [
        "df[\"image_path\"] = \"/content/resized_images_v4_224/resized_images_v4_224/\" + df[\"Image Index\"]"
      ],
      "execution_count": 99,
      "outputs": []
    },
    {
      "cell_type": "code",
      "metadata": {
        "id": "vwz9E2bLGsaU"
      },
      "source": [
        "X, y = df[\"image_path\"], df[\"disease_vec\"]"
      ],
      "execution_count": 100,
      "outputs": []
    },
    {
      "cell_type": "code",
      "metadata": {
        "id": "uoqlXE45GvGy"
      },
      "source": [
        "# HOG - Histogram of Oriented Gradients\n",
        "from skimage.io import imread\n",
        "from skimage.transform import resize\n",
        "from skimage.feature import hog\n",
        "from skimage import exposure\n",
        "import matplotlib.pyplot as plt\n",
        "from skimage.color import rgb2gray\n",
        "\n",
        "def hog_features(path):\n",
        "  # reading the image\n",
        "  img = imread(path)\n",
        "  img = rgb2gray(img)\n",
        "  resized_img = resize(img, (224,224))\n",
        "  exposure_balanced_image = exposure.rescale_intensity(resized_img, in_range=(0, 225), out_range=(0, 225))\n",
        "  fd = hog(exposure_balanced_image, orientations=4, pixels_per_cell=(8, 8),\n",
        "                \tcells_per_block=(1, 1), visualize=False, multichannel=False)\n",
        "  return (fd , exposure_balanced_image)"
      ],
      "execution_count": 73,
      "outputs": []
    },
    {
      "cell_type": "code",
      "metadata": {
        "id": "PwW0hf57J7xr"
      },
      "source": [
        "# LBP- Local Binary Pattern\n",
        "from skimage.feature import local_binary_pattern\n",
        "from skimage import data\n",
        "\n",
        "def LBP(exposure_balanced_image, radius = 3):\n",
        "\n",
        "  n_points = 8 * radius\n",
        "  lbp = local_binary_pattern(exposure_balanced_image, n_points, radius, method = 'uniform')\n",
        "  n_bins = int(lbp.max() + 1)\n",
        "  histogram_2 = np.histogram(lbp.ravel(), density = True, bins = n_bins, range=(0, n_bins))\n",
        "\n",
        "  return histogram_2[0]"
      ],
      "execution_count": 74,
      "outputs": []
    },
    {
      "cell_type": "code",
      "metadata": {
        "id": "DqdryOPSNvss"
      },
      "source": [
        "# Gray level co-occurance matrix\n",
        "\n",
        "import numpy as np\n",
        "from skimage.feature import greycomatrix, greycoprops\n",
        "from skimage import io, color, img_as_ubyte\n",
        "\n",
        "def GLCM(image):\n",
        "  image = img_as_ubyte(image)\n",
        "\n",
        "  bins = np.array([0, 16, 32, 48, 64, 80, 96, 112, 128, 144, 160, 176, 192, 208, 224, 240, 255]) #16-bit\n",
        "  inds = np.digitize(image, bins)\n",
        "\n",
        "  max_value = inds.max()+1\n",
        "  matrix_coocurrence = greycomatrix(inds, [1], [0, np.pi/4, np.pi/2, 3*np.pi/4], levels=max_value, normed=False, symmetric=False)\n",
        "  # plt.imshow(matrix_coocurrence[0], cmap = 'gray')\n",
        "  \n",
        "\n",
        "  # GLCM properties\n",
        "  def contrast_feature(matrix_coocurrence):\n",
        "      contrast = greycoprops(matrix_coocurrence, 'contrast')\n",
        "      return contrast\n",
        "\n",
        "  def dissimilarity_feature(matrix_coocurrence):\n",
        "      dissimilarity = greycoprops(matrix_coocurrence, 'dissimilarity')    \n",
        "      return dissimilarity\n",
        "\n",
        "  def homogeneity_feature(matrix_coocurrence):\n",
        "      homogeneity = greycoprops(matrix_coocurrence, 'homogeneity')\n",
        "      return homogeneity\n",
        "\n",
        "  def energy_feature(matrix_coocurrence):\n",
        "      energy = greycoprops(matrix_coocurrence, 'energy')\n",
        "      return energy\n",
        "\n",
        "  def correlation_feature(matrix_coocurrence):\n",
        "      correlation = greycoprops(matrix_coocurrence, 'correlation')\n",
        "      \n",
        "      return correlation\n",
        "\n",
        "  def entropy_feature(matrix_coocurrence):\n",
        "      entropy = greycoprops(matrix_coocurrence, 'entropy')\n",
        "      return entropy\n",
        "\n",
        "  # print(contrast_feature(matrix_coocurrence))\n",
        "  # print(dissimilarity_feature(matrix_coocurrence))\n",
        "  # print(homogeneity_feature(matrix_coocurrence))\n",
        "  # print(energy_feature(matrix_coocurrence))\n",
        "  # print(correlation_feature(matrix_coocurrence))\n",
        "  return np.concatenate((contrast_feature(matrix_coocurrence),dissimilarity_feature(matrix_coocurrence),homogeneity_feature(matrix_coocurrence),energy_feature(matrix_coocurrence),correlation_feature(matrix_coocurrence)), axis = 1)\n"
      ],
      "execution_count": 75,
      "outputs": []
    },
    {
      "cell_type": "code",
      "metadata": {
        "id": "7nTdaj8WO4Kd"
      },
      "source": [
        "import pywt\n",
        "import pywt.data\n",
        "def wavelet_transform(image):\n",
        "\n",
        "  coef = pywt.wavedec2(image, 'db1' , level=4) # level3 decomposition #use db1 or haar\n",
        "\n",
        "  cA = coef[0]\n",
        "  (cH1,cV1,cD1) =  coef[-1]#level1\n",
        "  (cH2,cV2,cD2) =  coef[-2]#level2\n",
        "  (cH3,cV3,cD3) =  coef[-3]#level3\n",
        "  (cH4,cV4,cD4) =  coef[-4]#level4 output of level4 decomp and furthur level dont offer better features\n",
        "\n",
        "  return np.concatenate((cA.reshape(1,-1),cH4.reshape(1,-1),cV4.reshape(1,-1),cD4.reshape(1,-1)), axis = 1)\n"
      ],
      "execution_count": 76,
      "outputs": []
    },
    {
      "cell_type": "code",
      "metadata": {
        "id": "M0m6Bce0Y_N3"
      },
      "source": [
        "import tqdm\n",
        "import gc\n",
        "def extract_features(dataset, extract_path, name, chunk_size = 500, start_index = 0):\n",
        "  return_df = pd.DataFrame()\n",
        "  extract_path = extract_path + \"_\" + name + \".csv\"\n",
        "  for i in tqdm.tqdm(range(start_index,dataset.shape[0])):\n",
        "    lst = list()\n",
        "    path = dataset[i]\n",
        "    hgf = hog_features(path)\n",
        "    fd, exposure_balanced_image = hgf[0].reshape(1,-1) , hgf[1]\n",
        "    hist = LBP(exposure_balanced_image).reshape(1,-1)\n",
        "    covariance_matrix = GLCM(exposure_balanced_image)\n",
        "    wt = wavelet_transform(exposure_balanced_image)\n",
        "    lst = np.float32(np.concatenate((covariance_matrix, hist, wt, fd), axis = 1))\n",
        "    # return_df = np.concatenate([return_df, lst])\n",
        "    df = pd.DataFrame(lst)\n",
        "    return_df = pd.concat([return_df, df], ignore_index = True, copy = False)\n",
        "  #   if i!=0 and i % chunk_size == 0:\n",
        "  #     print(\"chunking\",i)\n",
        "  #     header = False\n",
        "  #     mode = 'a'\n",
        "  #     if i == chunk_size:\n",
        "  #       header = True\n",
        "  #       mode = 'w'\n",
        "  #     x = pd.DataFrame(return_df)\n",
        "  #     x.to_csv(extract_path, mode = mode, header = header, index = False)\n",
        "  #     del return_df\n",
        "  #     gc.collect()\n",
        "  #     return_df = np.empty((0,830))\n",
        "  \n",
        "  # if return_df.shape[0] != 0:\n",
        "  #   x = pd.DataFrame(return_df)\n",
        "  #   x.to_csv(extract_path, mode = 'a', header = False, index = False)\n",
        "  #   del return_df\n",
        "  #   gc.collect()\n",
        "  return_df.to_csv(extract_path, index = False) \n",
        "  # return_df = pd.read_csv(extract_path)\n",
        "\n",
        "  return return_df\n",
        "  # return_df = pd.DataFrame(return_df)\n",
        "  # return_df.to_csv(extract_path, index = False)\n",
        "  # return return_df"
      ],
      "execution_count": 113,
      "outputs": []
    },
    {
      "cell_type": "code",
      "source": [
        "extract_path = \"/content/drive/MyDrive/CS5100 Project/manual_features_v2\"\n",
        "x2 = extract_features(X, extract_path, \"all\")"
      ],
      "metadata": {
        "colab": {
          "base_uri": "https://localhost:8080/",
          "height": 470
        },
        "id": "woeGVCev0XPZ",
        "outputId": "931a129c-5f93-4430-b0c1-4fa0a9ef79c0"
      },
      "execution_count": 114,
      "outputs": [
        {
          "output_type": "stream",
          "name": "stderr",
          "text": [
            "  0%|          | 0/112120 [00:00<?, ?it/s]/usr/local/lib/python3.7/dist-packages/ipykernel_launcher.py:12: FutureWarning: The behavior of rgb2gray will change in scikit-image 0.19. Currently, rgb2gray allows 2D grayscale image to be passed as inputs and leaves them unmodified as outputs. Starting from version 0.19, 2D arrays will be treated as 1D images with 3 channels.\n",
            "  if sys.path[0] == '':\n",
            "  0%|          | 12/112120 [00:01<3:36:54,  8.61it/s]/usr/local/lib/python3.7/dist-packages/ipykernel_launcher.py:12: FutureWarning: Non RGB image conversion is now deprecated. For RGBA images, please use rgb2gray(rgba2rgb(rgb)) instead. In version 0.19, a ValueError will be raised if input image last dimension length is not 3.\n",
            "  if sys.path[0] == '':\n",
            "  5%|▍         | 5374/112120 [10:21<3:25:37,  8.65it/s]\n"
          ]
        },
        {
          "output_type": "error",
          "ename": "KeyboardInterrupt",
          "evalue": "ignored",
          "traceback": [
            "\u001b[0;31m---------------------------------------------------------------------------\u001b[0m",
            "\u001b[0;31mKeyboardInterrupt\u001b[0m                         Traceback (most recent call last)",
            "\u001b[0;32m<ipython-input-114-379166ea3273>\u001b[0m in \u001b[0;36m<module>\u001b[0;34m()\u001b[0m\n\u001b[1;32m      1\u001b[0m \u001b[0mextract_path\u001b[0m \u001b[0;34m=\u001b[0m \u001b[0;34m\"/content/drive/MyDrive/CS5100 Project/manual_features_v2\"\u001b[0m\u001b[0;34m\u001b[0m\u001b[0;34m\u001b[0m\u001b[0m\n\u001b[0;32m----> 2\u001b[0;31m \u001b[0mx2\u001b[0m \u001b[0;34m=\u001b[0m \u001b[0mextract_features\u001b[0m\u001b[0;34m(\u001b[0m\u001b[0mX\u001b[0m\u001b[0;34m,\u001b[0m \u001b[0mextract_path\u001b[0m\u001b[0;34m,\u001b[0m \u001b[0;34m\"all\"\u001b[0m\u001b[0;34m)\u001b[0m\u001b[0;34m\u001b[0m\u001b[0;34m\u001b[0m\u001b[0m\n\u001b[0m",
            "\u001b[0;32m<ipython-input-113-847723c88679>\u001b[0m in \u001b[0;36mextract_features\u001b[0;34m(dataset, extract_path, name, chunk_size, start_index)\u001b[0m\n\u001b[1;32m      7\u001b[0m     \u001b[0mlst\u001b[0m \u001b[0;34m=\u001b[0m \u001b[0mlist\u001b[0m\u001b[0;34m(\u001b[0m\u001b[0;34m)\u001b[0m\u001b[0;34m\u001b[0m\u001b[0;34m\u001b[0m\u001b[0m\n\u001b[1;32m      8\u001b[0m     \u001b[0mpath\u001b[0m \u001b[0;34m=\u001b[0m \u001b[0mdataset\u001b[0m\u001b[0;34m[\u001b[0m\u001b[0mi\u001b[0m\u001b[0;34m]\u001b[0m\u001b[0;34m\u001b[0m\u001b[0;34m\u001b[0m\u001b[0m\n\u001b[0;32m----> 9\u001b[0;31m     \u001b[0mhgf\u001b[0m \u001b[0;34m=\u001b[0m \u001b[0mhog_features\u001b[0m\u001b[0;34m(\u001b[0m\u001b[0mpath\u001b[0m\u001b[0;34m)\u001b[0m\u001b[0;34m\u001b[0m\u001b[0;34m\u001b[0m\u001b[0m\n\u001b[0m\u001b[1;32m     10\u001b[0m     \u001b[0mfd\u001b[0m\u001b[0;34m,\u001b[0m \u001b[0mexposure_balanced_image\u001b[0m \u001b[0;34m=\u001b[0m \u001b[0mhgf\u001b[0m\u001b[0;34m[\u001b[0m\u001b[0;36m0\u001b[0m\u001b[0;34m]\u001b[0m\u001b[0;34m.\u001b[0m\u001b[0mreshape\u001b[0m\u001b[0;34m(\u001b[0m\u001b[0;36m1\u001b[0m\u001b[0;34m,\u001b[0m\u001b[0;34m-\u001b[0m\u001b[0;36m1\u001b[0m\u001b[0;34m)\u001b[0m \u001b[0;34m,\u001b[0m \u001b[0mhgf\u001b[0m\u001b[0;34m[\u001b[0m\u001b[0;36m1\u001b[0m\u001b[0;34m]\u001b[0m\u001b[0;34m\u001b[0m\u001b[0;34m\u001b[0m\u001b[0m\n\u001b[1;32m     11\u001b[0m     \u001b[0mhist\u001b[0m \u001b[0;34m=\u001b[0m \u001b[0mLBP\u001b[0m\u001b[0;34m(\u001b[0m\u001b[0mexposure_balanced_image\u001b[0m\u001b[0;34m)\u001b[0m\u001b[0;34m.\u001b[0m\u001b[0mreshape\u001b[0m\u001b[0;34m(\u001b[0m\u001b[0;36m1\u001b[0m\u001b[0;34m,\u001b[0m\u001b[0;34m-\u001b[0m\u001b[0;36m1\u001b[0m\u001b[0;34m)\u001b[0m\u001b[0;34m\u001b[0m\u001b[0;34m\u001b[0m\u001b[0m\n",
            "\u001b[0;32m<ipython-input-73-fb4a9065d9dd>\u001b[0m in \u001b[0;36mhog_features\u001b[0;34m(path)\u001b[0m\n\u001b[1;32m     14\u001b[0m   \u001b[0mexposure_balanced_image\u001b[0m \u001b[0;34m=\u001b[0m \u001b[0mexposure\u001b[0m\u001b[0;34m.\u001b[0m\u001b[0mrescale_intensity\u001b[0m\u001b[0;34m(\u001b[0m\u001b[0mresized_img\u001b[0m\u001b[0;34m,\u001b[0m \u001b[0min_range\u001b[0m\u001b[0;34m=\u001b[0m\u001b[0;34m(\u001b[0m\u001b[0;36m0\u001b[0m\u001b[0;34m,\u001b[0m \u001b[0;36m225\u001b[0m\u001b[0;34m)\u001b[0m\u001b[0;34m,\u001b[0m \u001b[0mout_range\u001b[0m\u001b[0;34m=\u001b[0m\u001b[0;34m(\u001b[0m\u001b[0;36m0\u001b[0m\u001b[0;34m,\u001b[0m \u001b[0;36m225\u001b[0m\u001b[0;34m)\u001b[0m\u001b[0;34m)\u001b[0m\u001b[0;34m\u001b[0m\u001b[0;34m\u001b[0m\u001b[0m\n\u001b[1;32m     15\u001b[0m   fd = hog(exposure_balanced_image, orientations=4, pixels_per_cell=(8, 8),\n\u001b[0;32m---> 16\u001b[0;31m                 \tcells_per_block=(1, 1), visualize=False, multichannel=False)\n\u001b[0m\u001b[1;32m     17\u001b[0m   \u001b[0;32mreturn\u001b[0m \u001b[0;34m(\u001b[0m\u001b[0mfd\u001b[0m \u001b[0;34m,\u001b[0m \u001b[0mexposure_balanced_image\u001b[0m\u001b[0;34m)\u001b[0m\u001b[0;34m\u001b[0m\u001b[0;34m\u001b[0m\u001b[0m\n",
            "\u001b[0;32m/usr/local/lib/python3.7/dist-packages/skimage/feature/_hog.py\u001b[0m in \u001b[0;36mhog\u001b[0;34m(image, orientations, pixels_per_cell, cells_per_block, block_norm, visualize, transform_sqrt, feature_vector, multichannel)\u001b[0m\n\u001b[1;32m    279\u001b[0m             \u001b[0mblock\u001b[0m \u001b[0;34m=\u001b[0m \u001b[0morientation_histogram\u001b[0m\u001b[0;34m[\u001b[0m\u001b[0mr\u001b[0m\u001b[0;34m:\u001b[0m\u001b[0mr\u001b[0m \u001b[0;34m+\u001b[0m \u001b[0mb_row\u001b[0m\u001b[0;34m,\u001b[0m \u001b[0mc\u001b[0m\u001b[0;34m:\u001b[0m\u001b[0mc\u001b[0m \u001b[0;34m+\u001b[0m \u001b[0mb_col\u001b[0m\u001b[0;34m,\u001b[0m \u001b[0;34m:\u001b[0m\u001b[0;34m]\u001b[0m\u001b[0;34m\u001b[0m\u001b[0;34m\u001b[0m\u001b[0m\n\u001b[1;32m    280\u001b[0m             \u001b[0mnormalized_blocks\u001b[0m\u001b[0;34m[\u001b[0m\u001b[0mr\u001b[0m\u001b[0;34m,\u001b[0m \u001b[0mc\u001b[0m\u001b[0;34m,\u001b[0m \u001b[0;34m:\u001b[0m\u001b[0;34m]\u001b[0m \u001b[0;34m=\u001b[0m\u001b[0;31m \u001b[0m\u001b[0;31m\\\u001b[0m\u001b[0;34m\u001b[0m\u001b[0;34m\u001b[0m\u001b[0m\n\u001b[0;32m--> 281\u001b[0;31m                 \u001b[0m_hog_normalize_block\u001b[0m\u001b[0;34m(\u001b[0m\u001b[0mblock\u001b[0m\u001b[0;34m,\u001b[0m \u001b[0mmethod\u001b[0m\u001b[0;34m=\u001b[0m\u001b[0mblock_norm\u001b[0m\u001b[0;34m)\u001b[0m\u001b[0;34m\u001b[0m\u001b[0;34m\u001b[0m\u001b[0m\n\u001b[0m\u001b[1;32m    282\u001b[0m \u001b[0;34m\u001b[0m\u001b[0m\n\u001b[1;32m    283\u001b[0m     \"\"\"\n",
            "\u001b[0;32m/usr/local/lib/python3.7/dist-packages/skimage/feature/_hog.py\u001b[0m in \u001b[0;36m_hog_normalize_block\u001b[0;34m(block, method, eps)\u001b[0m\n\u001b[1;32m     13\u001b[0m         \u001b[0mout\u001b[0m \u001b[0;34m=\u001b[0m \u001b[0mblock\u001b[0m \u001b[0;34m/\u001b[0m \u001b[0mnp\u001b[0m\u001b[0;34m.\u001b[0m\u001b[0msqrt\u001b[0m\u001b[0;34m(\u001b[0m\u001b[0mnp\u001b[0m\u001b[0;34m.\u001b[0m\u001b[0msum\u001b[0m\u001b[0;34m(\u001b[0m\u001b[0mblock\u001b[0m \u001b[0;34m**\u001b[0m \u001b[0;36m2\u001b[0m\u001b[0;34m)\u001b[0m \u001b[0;34m+\u001b[0m \u001b[0meps\u001b[0m \u001b[0;34m**\u001b[0m \u001b[0;36m2\u001b[0m\u001b[0;34m)\u001b[0m\u001b[0;34m\u001b[0m\u001b[0;34m\u001b[0m\u001b[0m\n\u001b[1;32m     14\u001b[0m         \u001b[0mout\u001b[0m \u001b[0;34m=\u001b[0m \u001b[0mnp\u001b[0m\u001b[0;34m.\u001b[0m\u001b[0mminimum\u001b[0m\u001b[0;34m(\u001b[0m\u001b[0mout\u001b[0m\u001b[0;34m,\u001b[0m \u001b[0;36m0.2\u001b[0m\u001b[0;34m)\u001b[0m\u001b[0;34m\u001b[0m\u001b[0;34m\u001b[0m\u001b[0m\n\u001b[0;32m---> 15\u001b[0;31m         \u001b[0mout\u001b[0m \u001b[0;34m=\u001b[0m \u001b[0mout\u001b[0m \u001b[0;34m/\u001b[0m \u001b[0mnp\u001b[0m\u001b[0;34m.\u001b[0m\u001b[0msqrt\u001b[0m\u001b[0;34m(\u001b[0m\u001b[0mnp\u001b[0m\u001b[0;34m.\u001b[0m\u001b[0msum\u001b[0m\u001b[0;34m(\u001b[0m\u001b[0mout\u001b[0m \u001b[0;34m**\u001b[0m \u001b[0;36m2\u001b[0m\u001b[0;34m)\u001b[0m \u001b[0;34m+\u001b[0m \u001b[0meps\u001b[0m \u001b[0;34m**\u001b[0m \u001b[0;36m2\u001b[0m\u001b[0;34m)\u001b[0m\u001b[0;34m\u001b[0m\u001b[0;34m\u001b[0m\u001b[0m\n\u001b[0m\u001b[1;32m     16\u001b[0m     \u001b[0;32melse\u001b[0m\u001b[0;34m:\u001b[0m\u001b[0;34m\u001b[0m\u001b[0;34m\u001b[0m\u001b[0m\n\u001b[1;32m     17\u001b[0m         \u001b[0;32mraise\u001b[0m \u001b[0mValueError\u001b[0m\u001b[0;34m(\u001b[0m\u001b[0;34m'Selected block normalization method is invalid.'\u001b[0m\u001b[0;34m)\u001b[0m\u001b[0;34m\u001b[0m\u001b[0;34m\u001b[0m\u001b[0m\n",
            "\u001b[0;32m<__array_function__ internals>\u001b[0m in \u001b[0;36msum\u001b[0;34m(*args, **kwargs)\u001b[0m\n",
            "\u001b[0;31mKeyboardInterrupt\u001b[0m: "
          ]
        }
      ]
    },
    {
      "cell_type": "code",
      "source": [
        "fd.shape[1] + hist.shape[1] + covariance_matrix.shape[1] + wt.shape[1]"
      ],
      "metadata": {
        "colab": {
          "base_uri": "https://localhost:8080/"
        },
        "id": "msgNz_EGCUTz",
        "outputId": "ad8efcfc-f3e9-4fb2-f637-4143798f0b50"
      },
      "execution_count": 111,
      "outputs": [
        {
          "output_type": "execute_result",
          "data": {
            "text/plain": [
              "3966"
            ]
          },
          "metadata": {},
          "execution_count": 111
        }
      ]
    },
    {
      "cell_type": "code",
      "source": [
        "import matplotlib.pyplot as plt\n",
        "\n",
        "from skimage.feature import greycomatrix, greycoprops\n",
        "from skimage import data\n",
        "\n",
        "\n",
        "PATCH_SIZE = 21\n",
        "\n",
        "# open the camera image\n",
        "path = '/content/00000075_000.png'\n",
        "image = io.imread(path)\n",
        "\n",
        "# select some patches from grassy areas of the image\n",
        "grass_locations = [(200, 250), (570, 170), (275, 300), (200, 600)]\n",
        "grass_patches = []\n",
        "for loc in grass_locations:\n",
        "    grass_patches.append(image[loc[0]:loc[0] + PATCH_SIZE,\n",
        "                               loc[1]:loc[1] + PATCH_SIZE])\n",
        "\n",
        "# select some patches from sky areas of the image\n",
        "sky_locations = [(600, 500), (900, 700), (800, 200), (800, 450)]\n",
        "sky_patches = []\n",
        "for loc in sky_locations:\n",
        "    sky_patches.append(image[loc[0]:loc[0] + PATCH_SIZE,\n",
        "                             loc[1]:loc[1] + PATCH_SIZE])\n",
        "\n",
        "# compute some GLCM properties each patch\n",
        "xs = []\n",
        "ys = []\n",
        "for patch in (grass_patches + sky_patches):\n",
        "    glcm = greycomatrix(patch, [5], [0], 256, symmetric=True, normed=True)\n",
        "    xs.append(greycoprops(glcm, 'dissimilarity')[0, 0])\n",
        "    ys.append(greycoprops(glcm, 'correlation')[0, 0])\n",
        "\n",
        "# create the figure\n",
        "fig = plt.figure(figsize=(8, 8))\n",
        "\n",
        "# display original image with locations of patches\n",
        "ax = fig.add_subplot(3, 2, 1)\n",
        "ax.imshow(image, cmap=plt.cm.gray, interpolation='nearest',\n",
        "          vmin=0, vmax=255)\n",
        "for (y, x) in grass_locations:\n",
        "    ax.plot(x + PATCH_SIZE / 2, y + PATCH_SIZE / 2, 'gs')\n",
        "for (y, x) in sky_locations:\n",
        "    ax.plot(x + PATCH_SIZE / 2, y + PATCH_SIZE / 2, 'bs')\n",
        "ax.set_xlabel('Original Image')\n",
        "ax.axis('image')\n",
        "\n",
        "# for each patch, plot (dissimilarity, correlation)\n",
        "ax = fig.add_subplot(3, 2, 2)\n",
        "ax.plot(xs[:len(grass_patches)], ys[:len(grass_patches)], 'go',\n",
        "        label='Grass')\n",
        "ax.plot(xs[len(grass_patches):], ys[len(grass_patches):], 'bo',\n",
        "        label='Sky')\n",
        "ax.set_xlabel('GLCM Dissimilarity')\n",
        "ax.set_ylabel('GLVM Correlation')\n",
        "\n",
        "# display the image patches\n",
        "for i, patch in enumerate(grass_patches):\n",
        "    ax = fig.add_subplot(3, len(grass_patches), len(grass_patches)*1 + i + 1)\n",
        "    ax.imshow(patch, cmap=plt.cm.gray, interpolation='nearest',\n",
        "              vmin=0, vmax=255)\n",
        "    ax.set_xlabel('Grass %d' % (i + 1))\n",
        "\n",
        "for i, patch in enumerate(sky_patches):\n",
        "    ax = fig.add_subplot(3, len(grass_patches), len(grass_patches)*2 + i + 1)\n",
        "    ax.imshow(patch, cmap=plt.cm.gray, interpolation='nearest',\n",
        "              vmin=0, vmax=255)\n",
        "    ax.set_xlabel('Sky %d' % (i + 1))\n",
        "\n",
        "\n",
        "# display the patches and plot\n",
        "fig.suptitle('Grey level co-occurrence matrix features', fontsize=14)\n",
        "plt.show()"
      ],
      "metadata": {
        "colab": {
          "base_uri": "https://localhost:8080/",
          "height": 539
        },
        "id": "PmUp8l86v5Hd",
        "outputId": "f76181fb-a142-4280-8a3e-6d1de0d76836"
      },
      "execution_count": null,
      "outputs": [
        {
          "output_type": "display_data",
          "data": {
            "image/png": "[encoded data removed]",
            "text/plain": [
              "<Figure size 576x576 with 10 Axes>"
            ]
          },
          "metadata": {
            "needs_background": "light"
          }
        }
      ]
    }
  ]
}